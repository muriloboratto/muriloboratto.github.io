{
 "cells": [
  {
   "cell_type": "markdown",
   "metadata": {
    "deletable": true,
    "editable": true
   },
   "source": [
    "# Publications markdown generator for academicpages\n",
    "\n",
    "Takes a TSV of publications with metadata and converts them for use with [academicpages.github.io](academicpages.github.io). This is an interactive Jupyter notebook ([see more info here](http://jupyter-notebook-beginner-guide.readthedocs.io/en/latest/what_is_jupyter.html)). The core python code is also in `publications.py`. Run either from the `markdown_generator` folder after replacing `publications.tsv` with one containing your data.\n",
    "\n",
    "TODO: Make this work with BibTex and other databases of citations, rather than Stuart's non-standard TSV format and citation style.\n"
   ]
  },
  {
   "cell_type": "markdown",
   "metadata": {},
   "source": [
    "## Data format\n",
    "\n",
    "The TSV needs to have the following columns: pub_date, title, venue, excerpt, citation, site_url, and paper_url, with a header at the top. \n",
    "\n",
    "- `excerpt` and `paper_url` can be blank, but the others must have values. \n",
    "- `pub_date` must be formatted as YYYY-MM-DD.\n",
    "- `url_slug` will be the descriptive part of the .md file and the permalink URL for the page about the paper. The .md file will be `YYYY-MM-DD-[url_slug].md` and the permalink will be `https://[yourdomain]/publications/YYYY-MM-DD-[url_slug]`\n",
    "\n",
    "This is how the raw file looks (it doesn't look pretty, use a spreadsheet or other program to edit and create)."
   ]
  },
  {
   "cell_type": "code",
   "execution_count": 26,
   "metadata": {
    "collapsed": false,
    "jupyter": {
     "outputs_hidden": false
    }
   },
   "outputs": [
    {
     "name": "stdout",
     "output_type": "stream",
     "text": [
      "pub_date\ttitle\tvenue\texcerpt\tcitation\turl_slug\tpaper_url\n",
      "01/01/2022\tParallel signal detection for generalized spatial modulation MIMO systems\tTHE JOURNAL OF SUPERCOMPUTING (DORDRECHT ONLINE)\tv. 57, p. 1-19\t\"GARCIA-MOLLA, VICTOR M. ; SIMARRO, M. ANGELES ; MARTINEZ-ZALDIVAR, F. J. ; BORATTO, M. ; ALONSO, P. ; GONZALEZ, A. \"\tA\thttps://link.springer.com/article/10.1007/s11227-021-04163-y\n",
      "01/01/2021\tUtilization of an Application in Dizziness Treatment: Pilot Study\tMedWin Publishers\tv. 6, p. 2008-2017\t\"CANTO, G. ; DHA, P. S. ; MGC, S. ; JD, S. C. ; R, M. ;�BORATTO, M.�; ALVES, L.�\"\tA\t\n",
      "01/01/2018\tExploring hybrid parallel systems for probabilistic record linkage\tTHE JOURNAL OF SUPERCOMPUTING\tv. 10, p. 1-13\t\"BORATTO, MURILO; Alonso, Pedro ; PINTO, CLICIA ; MELO, PEDRO ; Barreto, Marcos ; DENAXAS, SPIROS\"\tA\thttps://link.springer.com/article/10.1007/s11227-018-2328-3\n",
      "01/01/2017\tAutomatic tuning to performance modelling of matrix polynomials on multicore and multi-GPU systems\tTHE JOURNAL OF SUPERCOMPUTING\tv. 73, p. 227-239\t\"BORATTO, MURILO; Alonso, Pedro ; GIMENEZ, DOMINGO ; LASTOVETSKY, ALEXEY�\"\tA\thttps://link.springer.com/article/10.1007/s11227-016-1694-y\n",
      "01/01/2014\tAutomatic routine tuning to represent landform attributes on multicore and multi-GPU systems.�\tTHE JOURNAL OF SUPERCOMPUTING\tv. 10, p. 1-13\t\"BORATTO, MURILO; ALONSO, PEDRO ; GIMENEZ, DOMINGO ; BARRETO, MARCOS\"\tA\thttps://link.springer.com/article/10.1007/s11227-014-1191-0\n",
      "01/01/2014\tSolving time-invariant differential matrix Riccati equations using GPGPU computing\tTHE JOURNAL OF SUPERCOMPUTING\tv. 9, p. 1-13\t\"PEINADO, JESUS ; ALONSO, PEDRO ; IBANEZ, JAVIER ; HERNANDEZ, VICENTE\"\tA\thttps://link.springer.com/article/10.1007/s11227-014-1111-3\n",
      "01/01/2012\tHeterogeneous Computational Model for Landform Attributes Representation on Multicore and Multi-GPU Systems\tPROCEDIA COMPUTER SCIENCE\tp. 47-56\t\"BORATTO, M.; ALONSO, PEDRO ; RAMIRO, CARLA ; BARREZTO, MARCOS\"\tA\thttp://dx.doi.org/10.1016/j.procs.2012.04.006"
     ]
    }
   ],
   "source": [
    "!cat publications.tsv"
   ]
  },
  {
   "cell_type": "markdown",
   "metadata": {},
   "source": [
    "## Import pandas\n",
    "\n",
    "We are using the very handy pandas library for dataframes."
   ]
  },
  {
   "cell_type": "code",
   "execution_count": 27,
   "metadata": {
    "deletable": true,
    "editable": true,
    "tags": []
   },
   "outputs": [],
   "source": [
    "import pandas as pd"
   ]
  },
  {
   "cell_type": "markdown",
   "metadata": {},
   "source": [
    "## Import TSV\n",
    "\n",
    "Pandas makes this easy with the read_csv function. We are using a TSV, so we specify the separator as a tab, or `\\t`.\n",
    "\n",
    "I found it important to put this data in a tab-separated values format, because there are a lot of commas in this kind of data and comma-separated values can get messed up. However, you can modify the import statement, as pandas also has read_excel(), read_json(), and others."
   ]
  },
  {
   "cell_type": "code",
   "execution_count": 23,
   "metadata": {
    "collapsed": false,
    "deletable": true,
    "editable": true,
    "jupyter": {
     "outputs_hidden": false
    }
   },
   "outputs": [
    {
     "data": {
      "text/html": [
       "<div>\n",
       "<style scoped>\n",
       "    .dataframe tbody tr th:only-of-type {\n",
       "        vertical-align: middle;\n",
       "    }\n",
       "\n",
       "    .dataframe tbody tr th {\n",
       "        vertical-align: top;\n",
       "    }\n",
       "\n",
       "    .dataframe thead th {\n",
       "        text-align: right;\n",
       "    }\n",
       "</style>\n",
       "<table border=\"1\" class=\"dataframe\">\n",
       "  <thead>\n",
       "    <tr style=\"text-align: right;\">\n",
       "      <th></th>\n",
       "      <th>pub_date</th>\n",
       "      <th>title</th>\n",
       "      <th>venue</th>\n",
       "      <th>excerpt</th>\n",
       "      <th>citation</th>\n",
       "      <th>url_slug</th>\n",
       "      <th>paper_url</th>\n",
       "    </tr>\n",
       "  </thead>\n",
       "  <tbody>\n",
       "    <tr>\n",
       "      <th>0</th>\n",
       "      <td>01/01/2022</td>\n",
       "      <td>Parallel signal detection for generalized spat...</td>\n",
       "      <td>THE JOURNAL OF SUPERCOMPUTING (DORDRECHT ONLINE)</td>\n",
       "      <td>v. 57, p. 1-19</td>\n",
       "      <td>GARCIA-MOLLA, VICTOR M. ; SIMARRO, M. ANGELES ...</td>\n",
       "      <td>NaN</td>\n",
       "      <td>https://link.springer.com/article/10.1007/s112...</td>\n",
       "    </tr>\n",
       "    <tr>\n",
       "      <th>1</th>\n",
       "      <td>01/01/2021</td>\n",
       "      <td>Utilization of an Application in Dizziness Tre...</td>\n",
       "      <td>MedWin Publishers</td>\n",
       "      <td>v. 6, p. 2008-2017</td>\n",
       "      <td>CANTO, G. ; DHA, P. S. ; MGC, S. ; JD, S. C. ;...</td>\n",
       "      <td>NaN</td>\n",
       "      <td>NaN</td>\n",
       "    </tr>\n",
       "    <tr>\n",
       "      <th>2</th>\n",
       "      <td>01/01/2018</td>\n",
       "      <td>Exploring hybrid parallel systems for probabil...</td>\n",
       "      <td>THE JOURNAL OF SUPERCOMPUTING</td>\n",
       "      <td>v. 10, p. 1-13</td>\n",
       "      <td>BORATTO, MURILO; Alonso, Pedro ; PINTO, CLICIA...</td>\n",
       "      <td>NaN</td>\n",
       "      <td>https://link.springer.com/article/10.1007/s112...</td>\n",
       "    </tr>\n",
       "    <tr>\n",
       "      <th>3</th>\n",
       "      <td>01/01/2017</td>\n",
       "      <td>Automatic tuning to performance modelling of m...</td>\n",
       "      <td>THE JOURNAL OF SUPERCOMPUTING</td>\n",
       "      <td>v. 73, p. 227-239</td>\n",
       "      <td>BORATTO, MURILO; Alonso, Pedro ; GIMENEZ, DOMI...</td>\n",
       "      <td>NaN</td>\n",
       "      <td>https://link.springer.com/article/10.1007/s112...</td>\n",
       "    </tr>\n",
       "    <tr>\n",
       "      <th>4</th>\n",
       "      <td>01/01/2014</td>\n",
       "      <td>Automatic routine tuning to represent landform...</td>\n",
       "      <td>THE JOURNAL OF SUPERCOMPUTING</td>\n",
       "      <td>v. 10, p. 1-13</td>\n",
       "      <td>BORATTO, MURILO; ALONSO, PEDRO ; GIMENEZ, DOMI...</td>\n",
       "      <td>NaN</td>\n",
       "      <td>https://link.springer.com/article/10.1007/s112...</td>\n",
       "    </tr>\n",
       "    <tr>\n",
       "      <th>5</th>\n",
       "      <td>01/01/2014</td>\n",
       "      <td>Solving time-invariant differential matrix Ric...</td>\n",
       "      <td>THE JOURNAL OF SUPERCOMPUTING</td>\n",
       "      <td>v. 9, p. 1-13</td>\n",
       "      <td>PEINADO, JESUS ; ALONSO, PEDRO ; IBANEZ, JAVIE...</td>\n",
       "      <td>NaN</td>\n",
       "      <td>https://link.springer.com/article/10.1007/s112...</td>\n",
       "    </tr>\n",
       "    <tr>\n",
       "      <th>6</th>\n",
       "      <td>01/01/2012</td>\n",
       "      <td>Heterogeneous Computational Model for Landform...</td>\n",
       "      <td>PROCEDIA COMPUTER SCIENCE</td>\n",
       "      <td>p. 47-56</td>\n",
       "      <td>BORATTO, M.; ALONSO, PEDRO ; RAMIRO, CARLA ; B...</td>\n",
       "      <td>NaN</td>\n",
       "      <td>http://dx.doi.org/10.1016/j.procs.2012.04.006</td>\n",
       "    </tr>\n",
       "  </tbody>\n",
       "</table>\n",
       "</div>"
      ],
      "text/plain": [
       "     pub_date                                              title  \\\n",
       "0  01/01/2022  Parallel signal detection for generalized spat...   \n",
       "1  01/01/2021  Utilization of an Application in Dizziness Tre...   \n",
       "2  01/01/2018  Exploring hybrid parallel systems for probabil...   \n",
       "3  01/01/2017  Automatic tuning to performance modelling of m...   \n",
       "4  01/01/2014  Automatic routine tuning to represent landform...   \n",
       "5  01/01/2014  Solving time-invariant differential matrix Ric...   \n",
       "6  01/01/2012  Heterogeneous Computational Model for Landform...   \n",
       "\n",
       "                                              venue             excerpt  \\\n",
       "0  THE JOURNAL OF SUPERCOMPUTING (DORDRECHT ONLINE)      v. 57, p. 1-19   \n",
       "1                                 MedWin Publishers  v. 6, p. 2008-2017   \n",
       "2                     THE JOURNAL OF SUPERCOMPUTING      v. 10, p. 1-13   \n",
       "3                     THE JOURNAL OF SUPERCOMPUTING   v. 73, p. 227-239   \n",
       "4                     THE JOURNAL OF SUPERCOMPUTING      v. 10, p. 1-13   \n",
       "5                     THE JOURNAL OF SUPERCOMPUTING       v. 9, p. 1-13   \n",
       "6                         PROCEDIA COMPUTER SCIENCE            p. 47-56   \n",
       "\n",
       "                                            citation  url_slug  \\\n",
       "0  GARCIA-MOLLA, VICTOR M. ; SIMARRO, M. ANGELES ...       NaN   \n",
       "1  CANTO, G. ; DHA, P. S. ; MGC, S. ; JD, S. C. ;...       NaN   \n",
       "2  BORATTO, MURILO; Alonso, Pedro ; PINTO, CLICIA...       NaN   \n",
       "3  BORATTO, MURILO; Alonso, Pedro ; GIMENEZ, DOMI...       NaN   \n",
       "4  BORATTO, MURILO; ALONSO, PEDRO ; GIMENEZ, DOMI...       NaN   \n",
       "5  PEINADO, JESUS ; ALONSO, PEDRO ; IBANEZ, JAVIE...       NaN   \n",
       "6  BORATTO, M.; ALONSO, PEDRO ; RAMIRO, CARLA ; B...       NaN   \n",
       "\n",
       "                                           paper_url  \n",
       "0  https://link.springer.com/article/10.1007/s112...  \n",
       "1                                                NaN  \n",
       "2  https://link.springer.com/article/10.1007/s112...  \n",
       "3  https://link.springer.com/article/10.1007/s112...  \n",
       "4  https://link.springer.com/article/10.1007/s112...  \n",
       "5  https://link.springer.com/article/10.1007/s112...  \n",
       "6      http://dx.doi.org/10.1016/j.procs.2012.04.006  "
      ]
     },
     "execution_count": 23,
     "metadata": {},
     "output_type": "execute_result"
    }
   ],
   "source": [
    "publications = pd.read_csv(\"publications.tsv\", sep=\"\\t\", header=0)\n",
    "publications\n"
   ]
  },
  {
   "cell_type": "markdown",
   "metadata": {},
   "source": [
    "## Escape special characters\n",
    "\n",
    "YAML is very picky about how it takes a valid string, so we are replacing single and double quotes (and ampersands) with their HTML encoded equivilents. This makes them look not so readable in raw format, but they are parsed and rendered nicely."
   ]
  },
  {
   "cell_type": "code",
   "execution_count": 24,
   "metadata": {
    "deletable": true,
    "editable": true,
    "tags": []
   },
   "outputs": [],
   "source": [
    "html_escape_table = {\n",
    "    \"&\": \"&amp;\",\n",
    "    '\"': \"&quot;\",\n",
    "    \"'\": \"&apos;\"\n",
    "    }\n",
    "\n",
    "def html_escape(text):\n",
    "    \"\"\"Produce entities within text.\"\"\"\n",
    "    return \"\".join(html_escape_table.get(c,c) for c in text)"
   ]
  },
  {
   "cell_type": "markdown",
   "metadata": {},
   "source": [
    "## Creating the markdown files\n",
    "\n",
    "This is where the heavy lifting is done. This loops through all the rows in the TSV dataframe, then starts to concatentate a big string (```md```) that contains the markdown for each type. It does the YAML metadata first, then does the description for the individual page."
   ]
  },
  {
   "cell_type": "code",
   "execution_count": 25,
   "metadata": {
    "collapsed": false,
    "deletable": true,
    "editable": true,
    "jupyter": {
     "outputs_hidden": false
    }
   },
   "outputs": [
    {
     "ename": "TypeError",
     "evalue": "can only concatenate str (not \"float\") to str",
     "output_type": "error",
     "traceback": [
      "\u001b[0;31m---------------------------------------------------------------------------\u001b[0m",
      "\u001b[0;31mTypeError\u001b[0m                                 Traceback (most recent call last)",
      "\u001b[0;32m/var/folders/ly/6k5z27s12nzbg23psk2zckbm0000gn/T/ipykernel_97138/3205768425.py\u001b[0m in \u001b[0;36m<module>\u001b[0;34m\u001b[0m\n\u001b[1;32m      2\u001b[0m \u001b[0;32mfor\u001b[0m \u001b[0mrow\u001b[0m\u001b[0;34m,\u001b[0m \u001b[0mitem\u001b[0m \u001b[0;32min\u001b[0m \u001b[0mpublications\u001b[0m\u001b[0;34m.\u001b[0m\u001b[0miterrows\u001b[0m\u001b[0;34m(\u001b[0m\u001b[0;34m)\u001b[0m\u001b[0;34m:\u001b[0m\u001b[0;34m\u001b[0m\u001b[0;34m\u001b[0m\u001b[0m\n\u001b[1;32m      3\u001b[0m \u001b[0;34m\u001b[0m\u001b[0m\n\u001b[0;32m----> 4\u001b[0;31m     \u001b[0mmd_filename\u001b[0m \u001b[0;34m=\u001b[0m \u001b[0mstr\u001b[0m\u001b[0;34m(\u001b[0m\u001b[0mitem\u001b[0m\u001b[0;34m.\u001b[0m\u001b[0mpub_date\u001b[0m\u001b[0;34m)\u001b[0m \u001b[0;34m+\u001b[0m \u001b[0;34m\"-\"\u001b[0m \u001b[0;34m+\u001b[0m \u001b[0mitem\u001b[0m\u001b[0;34m.\u001b[0m\u001b[0murl_slug\u001b[0m \u001b[0;34m+\u001b[0m \u001b[0;34m\".md\"\u001b[0m\u001b[0;34m\u001b[0m\u001b[0;34m\u001b[0m\u001b[0m\n\u001b[0m\u001b[1;32m      5\u001b[0m     \u001b[0mhtml_filename\u001b[0m \u001b[0;34m=\u001b[0m \u001b[0mstr\u001b[0m\u001b[0;34m(\u001b[0m\u001b[0mitem\u001b[0m\u001b[0;34m.\u001b[0m\u001b[0mpub_date\u001b[0m\u001b[0;34m)\u001b[0m \u001b[0;34m+\u001b[0m \u001b[0;34m\"-\"\u001b[0m \u001b[0;34m+\u001b[0m \u001b[0mitem\u001b[0m\u001b[0;34m.\u001b[0m\u001b[0murl_slug\u001b[0m\u001b[0;34m\u001b[0m\u001b[0;34m\u001b[0m\u001b[0m\n\u001b[1;32m      6\u001b[0m     \u001b[0myear\u001b[0m \u001b[0;34m=\u001b[0m \u001b[0mitem\u001b[0m\u001b[0;34m.\u001b[0m\u001b[0mpub_date\u001b[0m\u001b[0;34m[\u001b[0m\u001b[0;34m:\u001b[0m\u001b[0;36m4\u001b[0m\u001b[0;34m]\u001b[0m\u001b[0;34m\u001b[0m\u001b[0;34m\u001b[0m\u001b[0m\n",
      "\u001b[0;31mTypeError\u001b[0m: can only concatenate str (not \"float\") to str"
     ]
    }
   ],
   "source": [
    "import os\n",
    "for row, item in publications.iterrows():\n",
    "    \n",
    "    md_filename = str(item.pub_date) + \"-\" + item.url_slug + \".md\"\n",
    "    html_filename = str(item.pub_date) + \"-\" + item.url_slug\n",
    "    year = item.pub_date[:4]\n",
    "    \n",
    "    ## YAML variables\n",
    "    \n",
    "    md = \"---\\ntitle: \\\"\"   + item.title + '\"\\n'\n",
    "    \n",
    "    md += \"\"\"collection: publications\"\"\"\n",
    "    \n",
    "    md += \"\"\"\\npermalink: /publication/\"\"\" + html_filename\n",
    "    \n",
    "    if len(str(item.excerpt)) > 5:\n",
    "        md += \"\\nexcerpt: '\" + html_escape(item.excerpt) + \"'\"\n",
    "    \n",
    "    md += \"\\ndate: \" + str(item.pub_date) \n",
    "    \n",
    "    md += \"\\nvenue: '\" + html_escape(item.venue) + \"'\"\n",
    "    \n",
    "    if len(str(item.paper_url)) > 5:\n",
    "        md += \"\\npaperurl: '\" + item.paper_url + \"'\"\n",
    "    \n",
    "    md += \"\\ncitation: '\" + html_escape(item.citation) + \"'\"\n",
    "    \n",
    "    md += \"\\n---\"\n",
    "    \n",
    "    ## Markdown description for individual page\n",
    "        \n",
    "    if len(str(item.excerpt)) > 5:\n",
    "        md += \"\\n\" + html_escape(item.excerpt) + \"\\n\"\n",
    "    \n",
    "    if len(str(item.paper_url)) > 5:\n",
    "        md += \"\\n[Download paper here](\" + item.paper_url + \")\\n\" \n",
    "        \n",
    "    md += \"\\nRecommended citation: \" + item.citation\n",
    "    \n",
    "    md_filename = os.path.basename(md_filename)\n",
    "       \n",
    "    with open(\"../_publications/\" + md_filename, 'w') as f:\n",
    "        f.write(md)"
   ]
  },
  {
   "cell_type": "markdown",
   "metadata": {},
   "source": [
    "These files are in the publications directory, one directory below where we're working from."
   ]
  },
  {
   "cell_type": "code",
   "execution_count": 7,
   "metadata": {
    "collapsed": false,
    "deletable": true,
    "editable": true,
    "jupyter": {
     "outputs_hidden": false
    }
   },
   "outputs": [
    {
     "name": "stdout",
     "output_type": "stream",
     "text": [
      "2009-10-01-paper-title-number-1.md 2010-paper-title-number-2.md\n",
      "2009-paper-title-number-1.md       2015-10-01-paper-title-number-3.md\n",
      "2010-10-01-paper-title-number-2.md 2022-paper-title-number-3.md\n"
     ]
    }
   ],
   "source": [
    "!ls ../_publications/"
   ]
  },
  {
   "cell_type": "code",
   "execution_count": 8,
   "metadata": {
    "collapsed": false,
    "deletable": true,
    "editable": true,
    "jupyter": {
     "outputs_hidden": false
    }
   },
   "outputs": [
    {
     "name": "stdout",
     "output_type": "stream",
     "text": [
      "---\n",
      "title: \"Paper Title Number 1\"\n",
      "collection: publications\n",
      "permalink: /publication/2009-10-01-paper-title-number-1\n",
      "excerpt: 'This paper is about the number 1. The number 2 is left for future work.'\n",
      "date: 2009-10-01\n",
      "venue: 'Journal 1'\n",
      "paperurl: 'http://academicpages.github.io/files/paper1.pdf'\n",
      "citation: 'Your Name, You. (2009). &quot;Paper Title Number 1.&quot; <i>Journal 1</i>. 1(1).'\n",
      "---\n",
      "This paper is about the number 1. The number 2 is left for future work.\n",
      "\n",
      "[Download paper here](http://academicpages.github.io/files/paper1.pdf)\n",
      "\n",
      "Recommended citation: Your Name, You. (2009). \"Paper Title Number 1.\" <i>Journal 1</i>. 1(1)."
     ]
    }
   ],
   "source": [
    "!cat ../_publications/2009-10-01-paper-title-number-1.md"
   ]
  },
  {
   "cell_type": "code",
   "execution_count": null,
   "metadata": {
    "collapsed": true,
    "deletable": true,
    "editable": true,
    "jupyter": {
     "outputs_hidden": true
    }
   },
   "outputs": [],
   "source": []
  },
  {
   "cell_type": "code",
   "execution_count": null,
   "metadata": {},
   "outputs": [],
   "source": []
  }
 ],
 "metadata": {
  "kernelspec": {
   "display_name": "Python 3 (ipykernel)",
   "language": "python",
   "name": "python3"
  },
  "language_info": {
   "codemirror_mode": {
    "name": "ipython",
    "version": 3
   },
   "file_extension": ".py",
   "mimetype": "text/x-python",
   "name": "python",
   "nbconvert_exporter": "python",
   "pygments_lexer": "ipython3",
   "version": "3.8.8"
  }
 },
 "nbformat": 4,
 "nbformat_minor": 4
}
