{
 "cells": [
  {
   "cell_type": "markdown",
   "metadata": {
    "deletable": true,
    "editable": true
   },
   "source": [
    "# Publications markdown generator for academicpages\n",
    "\n",
    "Takes a TSV of publications with metadata and converts them for use with [academicpages.github.io](academicpages.github.io). This is an interactive Jupyter notebook ([see more info here](http://jupyter-notebook-beginner-guide.readthedocs.io/en/latest/what_is_jupyter.html)). The core python code is also in `publications.py`. Run either from the `markdown_generator` folder after replacing `publications.tsv` with one containing your data.\n",
    "\n",
    "TODO: Make this work with BibTex and other databases of citations, rather than Stuart's non-standard TSV format and citation style.\n"
   ]
  },
  {
   "cell_type": "markdown",
   "metadata": {},
   "source": [
    "## Data format\n",
    "\n",
    "The TSV needs to have the following columns: pub_date, title, venue, excerpt, citation, site_url, and paper_url, with a header at the top. \n",
    "\n",
    "- `excerpt` and `paper_url` can be blank, but the others must have values. \n",
    "- `pub_date` must be formatted as YYYY-MM-DD.\n",
    "- `url_slug` will be the descriptive part of the .md file and the permalink URL for the page about the paper. The .md file will be `YYYY-MM-DD-[url_slug].md` and the permalink will be `https://[yourdomain]/publications/YYYY-MM-DD-[url_slug]`\n",
    "\n",
    "This is how the raw file looks (it doesn't look pretty, use a spreadsheet or other program to edit and create)."
   ]
  },
  {
   "cell_type": "code",
   "execution_count": 1,
   "metadata": {
    "collapsed": false,
    "jupyter": {
     "outputs_hidden": false
    }
   },
   "outputs": [
    {
     "name": "stdout",
     "output_type": "stream",
     "text": [
      "pub_date\ttitle\tvenue\texcerpt\tcitation\turl_slug\tpaper_url\n",
      "01/01/2022\tParallel signal detection for generalized spatial modulation MIMO systems\tTHE JOURNAL OF SUPERCOMPUTING (DORDRECHT ONLINE)\tv. 57, p. 1-19\t\"GARCIA-MOLLA, VICTOR M. ; SIMARRO, M. ANGELES ; MARTINEZ-ZALDIVAR, F. J. ; BORATTO, M. ; ALONSO, P. ; GONZALEZ, A. \"\tURL\thttps://link.springer.com/article/10.1007/s11227-021-04163-y\n",
      "01/01/2021\tUtilization of an Application in Dizziness Treatment: Pilot Study\tMedWin Publishers\tv. 6, p. 2008-2017\t\"CANTO, G. ; DHA, P. S. ; MGC, S. ; JD, S. C. ; R, M. ;BORATTO, M.; ALVES, L.\"\tURL\t\n",
      "01/01/2018\tExploring hybrid parallel systems for probabilistic record linkage\tTHE JOURNAL OF SUPERCOMPUTING\tv. 10, p. 1-13\t\"BORATTO, MURILO; Alonso, Pedro ; PINTO, CLICIA ; MELO, PEDRO ; Barreto, Marcos ; DENAXAS, SPIROS\"\tURL\thttps://link.springer.com/article/10.1007/s11227-018-2328-3\n",
      "01/01/2017\tAutomatic tuning to performance modelling of matrix polynomials on multicore and multi-GPU systems\tTHE JOURNAL OF SUPERCOMPUTING\tv. 73, p. 227-239\t\"BORATTO, MURILO; Alonso, Pedro ; GIMENEZ, DOMINGO ; LASTOVETSKY, ALEXEY\"\tURL\thttps://link.springer.com/article/10.1007/s11227-016-1694-y\n",
      "01/01/2014\tAutomatic routine tuning to represent landform attributes on multicore and multi-GPU systems.\tTHE JOURNAL OF SUPERCOMPUTING\tv. 10, p. 1-13\t\"BORATTO, MURILO; ALONSO, PEDRO ; GIMENEZ, DOMINGO ; BARRETO, MARCOS\"\tURL\thttps://link.springer.com/article/10.1007/s11227-014-1191-0\n",
      "01/01/2014\tSolving time-invariant differential matrix Riccati equations using GPGPU computing\tTHE JOURNAL OF SUPERCOMPUTING\tv. 9, p. 1-13\t\"PEINADO, JESUS ; ALONSO, PEDRO ; IBANEZ, JAVIER ; HERNANDEZ, VICENTE\"\tURL\thttps://link.springer.com/article/10.1007/s11227-014-1111-3\n",
      "01/01/2012\tHeterogeneous Computational Model for Landform Attributes Representation on Multicore and Multi-GPU Systems\tPROCEDIA COMPUTER SCIENCE\tp. 47-56\t\"BORATTO, M.; ALONSO, PEDRO ; RAMIRO, CARLA ; BARREZTO, MARCOS\"\tURL\thttp://dx.doi.org/10.1016/j.procs.2012.04.006"
     ]
    }
   ],
   "source": [
    "!cat publications.tsv"
   ]
  },
  {
   "cell_type": "markdown",
   "metadata": {},
   "source": [
    "## Import pandas\n",
    "\n",
    "We are using the very handy pandas library for dataframes."
   ]
  },
  {
   "cell_type": "code",
   "execution_count": 2,
   "metadata": {
    "deletable": true,
    "editable": true,
    "tags": []
   },
   "outputs": [],
   "source": [
    "import pandas as pd"
   ]
  },
  {
   "cell_type": "markdown",
   "metadata": {},
   "source": [
    "## Import TSV\n",
    "\n",
    "Pandas makes this easy with the read_csv function. We are using a TSV, so we specify the separator as a tab, or `\\t`.\n",
    "\n",
    "I found it important to put this data in a tab-separated values format, because there are a lot of commas in this kind of data and comma-separated values can get messed up. However, you can modify the import statement, as pandas also has read_excel(), read_json(), and others."
   ]
  },
  {
   "cell_type": "code",
   "execution_count": 3,
   "metadata": {
    "collapsed": false,
    "deletable": true,
    "editable": true,
    "jupyter": {
     "outputs_hidden": false
    }
   },
   "outputs": [
    {
     "data": {
      "text/html": [
       "<div>\n",
       "<style scoped>\n",
       "    .dataframe tbody tr th:only-of-type {\n",
       "        vertical-align: middle;\n",
       "    }\n",
       "\n",
       "    .dataframe tbody tr th {\n",
       "        vertical-align: top;\n",
       "    }\n",
       "\n",
       "    .dataframe thead th {\n",
       "        text-align: right;\n",
       "    }\n",
       "</style>\n",
       "<table border=\"1\" class=\"dataframe\">\n",
       "  <thead>\n",
       "    <tr style=\"text-align: right;\">\n",
       "      <th></th>\n",
       "      <th>pub_date</th>\n",
       "      <th>title</th>\n",
       "      <th>venue</th>\n",
       "      <th>excerpt</th>\n",
       "      <th>citation</th>\n",
       "      <th>url_slug</th>\n",
       "      <th>paper_url</th>\n",
       "    </tr>\n",
       "  </thead>\n",
       "  <tbody>\n",
       "    <tr>\n",
       "      <th>0</th>\n",
       "      <td>01/01/2022</td>\n",
       "      <td>Parallel signal detection for generalized spat...</td>\n",
       "      <td>THE JOURNAL OF SUPERCOMPUTING (DORDRECHT ONLINE)</td>\n",
       "      <td>v. 57, p. 1-19</td>\n",
       "      <td>GARCIA-MOLLA, VICTOR M. ; SIMARRO, M. ANGELES ...</td>\n",
       "      <td>URL</td>\n",
       "      <td>https://link.springer.com/article/10.1007/s112...</td>\n",
       "    </tr>\n",
       "    <tr>\n",
       "      <th>1</th>\n",
       "      <td>01/01/2021</td>\n",
       "      <td>Utilization of an Application in Dizziness Tre...</td>\n",
       "      <td>MedWin Publishers</td>\n",
       "      <td>v. 6, p. 2008-2017</td>\n",
       "      <td>CANTO, G. ; DHA, P. S. ; MGC, S. ; JD, S. C. ;...</td>\n",
       "      <td>URL</td>\n",
       "      <td>NaN</td>\n",
       "    </tr>\n",
       "    <tr>\n",
       "      <th>2</th>\n",
       "      <td>01/01/2018</td>\n",
       "      <td>Exploring hybrid parallel systems for probabil...</td>\n",
       "      <td>THE JOURNAL OF SUPERCOMPUTING</td>\n",
       "      <td>v. 10, p. 1-13</td>\n",
       "      <td>BORATTO, MURILO; Alonso, Pedro ; PINTO, CLICIA...</td>\n",
       "      <td>URL</td>\n",
       "      <td>https://link.springer.com/article/10.1007/s112...</td>\n",
       "    </tr>\n",
       "    <tr>\n",
       "      <th>3</th>\n",
       "      <td>01/01/2017</td>\n",
       "      <td>Automatic tuning to performance modelling of m...</td>\n",
       "      <td>THE JOURNAL OF SUPERCOMPUTING</td>\n",
       "      <td>v. 73, p. 227-239</td>\n",
       "      <td>BORATTO, MURILO; Alonso, Pedro ; GIMENEZ, DOMI...</td>\n",
       "      <td>URL</td>\n",
       "      <td>https://link.springer.com/article/10.1007/s112...</td>\n",
       "    </tr>\n",
       "    <tr>\n",
       "      <th>4</th>\n",
       "      <td>01/01/2014</td>\n",
       "      <td>Automatic routine tuning to represent landform...</td>\n",
       "      <td>THE JOURNAL OF SUPERCOMPUTING</td>\n",
       "      <td>v. 10, p. 1-13</td>\n",
       "      <td>BORATTO, MURILO; ALONSO, PEDRO ; GIMENEZ, DOMI...</td>\n",
       "      <td>URL</td>\n",
       "      <td>https://link.springer.com/article/10.1007/s112...</td>\n",
       "    </tr>\n",
       "    <tr>\n",
       "      <th>5</th>\n",
       "      <td>01/01/2014</td>\n",
       "      <td>Solving time-invariant differential matrix Ric...</td>\n",
       "      <td>THE JOURNAL OF SUPERCOMPUTING</td>\n",
       "      <td>v. 9, p. 1-13</td>\n",
       "      <td>PEINADO, JESUS ; ALONSO, PEDRO ; IBANEZ, JAVIE...</td>\n",
       "      <td>URL</td>\n",
       "      <td>https://link.springer.com/article/10.1007/s112...</td>\n",
       "    </tr>\n",
       "    <tr>\n",
       "      <th>6</th>\n",
       "      <td>01/01/2012</td>\n",
       "      <td>Heterogeneous Computational Model for Landform...</td>\n",
       "      <td>PROCEDIA COMPUTER SCIENCE</td>\n",
       "      <td>p. 47-56</td>\n",
       "      <td>BORATTO, M.; ALONSO, PEDRO ; RAMIRO, CARLA ; B...</td>\n",
       "      <td>URL</td>\n",
       "      <td>http://dx.doi.org/10.1016/j.procs.2012.04.006</td>\n",
       "    </tr>\n",
       "  </tbody>\n",
       "</table>\n",
       "</div>"
      ],
      "text/plain": [
       "     pub_date                                              title  \\\n",
       "0  01/01/2022  Parallel signal detection for generalized spat...   \n",
       "1  01/01/2021  Utilization of an Application in Dizziness Tre...   \n",
       "2  01/01/2018  Exploring hybrid parallel systems for probabil...   \n",
       "3  01/01/2017  Automatic tuning to performance modelling of m...   \n",
       "4  01/01/2014  Automatic routine tuning to represent landform...   \n",
       "5  01/01/2014  Solving time-invariant differential matrix Ric...   \n",
       "6  01/01/2012  Heterogeneous Computational Model for Landform...   \n",
       "\n",
       "                                              venue             excerpt  \\\n",
       "0  THE JOURNAL OF SUPERCOMPUTING (DORDRECHT ONLINE)      v. 57, p. 1-19   \n",
       "1                                 MedWin Publishers  v. 6, p. 2008-2017   \n",
       "2                     THE JOURNAL OF SUPERCOMPUTING      v. 10, p. 1-13   \n",
       "3                     THE JOURNAL OF SUPERCOMPUTING   v. 73, p. 227-239   \n",
       "4                     THE JOURNAL OF SUPERCOMPUTING      v. 10, p. 1-13   \n",
       "5                     THE JOURNAL OF SUPERCOMPUTING       v. 9, p. 1-13   \n",
       "6                         PROCEDIA COMPUTER SCIENCE            p. 47-56   \n",
       "\n",
       "                                            citation url_slug  \\\n",
       "0  GARCIA-MOLLA, VICTOR M. ; SIMARRO, M. ANGELES ...      URL   \n",
       "1  CANTO, G. ; DHA, P. S. ; MGC, S. ; JD, S. C. ;...      URL   \n",
       "2  BORATTO, MURILO; Alonso, Pedro ; PINTO, CLICIA...      URL   \n",
       "3  BORATTO, MURILO; Alonso, Pedro ; GIMENEZ, DOMI...      URL   \n",
       "4  BORATTO, MURILO; ALONSO, PEDRO ; GIMENEZ, DOMI...      URL   \n",
       "5  PEINADO, JESUS ; ALONSO, PEDRO ; IBANEZ, JAVIE...      URL   \n",
       "6  BORATTO, M.; ALONSO, PEDRO ; RAMIRO, CARLA ; B...      URL   \n",
       "\n",
       "                                           paper_url  \n",
       "0  https://link.springer.com/article/10.1007/s112...  \n",
       "1                                                NaN  \n",
       "2  https://link.springer.com/article/10.1007/s112...  \n",
       "3  https://link.springer.com/article/10.1007/s112...  \n",
       "4  https://link.springer.com/article/10.1007/s112...  \n",
       "5  https://link.springer.com/article/10.1007/s112...  \n",
       "6      http://dx.doi.org/10.1016/j.procs.2012.04.006  "
      ]
     },
     "execution_count": 3,
     "metadata": {},
     "output_type": "execute_result"
    }
   ],
   "source": [
    "publications = pd.read_csv(\"publications.tsv\", sep=\"\\t\", header=0)\n",
    "publications\n"
   ]
  },
  {
   "cell_type": "markdown",
   "metadata": {},
   "source": [
    "## Escape special characters\n",
    "\n",
    "YAML is very picky about how it takes a valid string, so we are replacing single and double quotes (and ampersands) with their HTML encoded equivilents. This makes them look not so readable in raw format, but they are parsed and rendered nicely."
   ]
  },
  {
   "cell_type": "code",
   "execution_count": 4,
   "metadata": {
    "deletable": true,
    "editable": true,
    "tags": []
   },
   "outputs": [],
   "source": [
    "html_escape_table = {\n",
    "    \"&\": \"&amp;\",\n",
    "    '\"': \"&quot;\",\n",
    "    \"'\": \"&apos;\"\n",
    "    }\n",
    "\n",
    "def html_escape(text):\n",
    "    \"\"\"Produce entities within text.\"\"\"\n",
    "    return \"\".join(html_escape_table.get(c,c) for c in text)"
   ]
  },
  {
   "cell_type": "markdown",
   "metadata": {},
   "source": [
    "## Creating the markdown files\n",
    "\n",
    "This is where the heavy lifting is done. This loops through all the rows in the TSV dataframe, then starts to concatentate a big string (```md```) that contains the markdown for each type. It does the YAML metadata first, then does the description for the individual page."
   ]
  },
  {
   "cell_type": "code",
   "execution_count": 5,
   "metadata": {
    "collapsed": false,
    "deletable": true,
    "editable": true,
    "jupyter": {
     "outputs_hidden": false
    }
   },
   "outputs": [],
   "source": [
    "import os\n",
    "for row, item in publications.iterrows():\n",
    "    \n",
    "    md_filename = str(item.pub_date) + \"-\" + item.url_slug + \".md\"\n",
    "    html_filename = str(item.pub_date) + \"-\" + item.url_slug\n",
    "    year = item.pub_date[:4]\n",
    "    \n",
    "    ## YAML variables\n",
    "    \n",
    "    md = \"---\\ntitle: \\\"\"   + item.title + '\"\\n'\n",
    "    \n",
    "    md += \"\"\"collection: publications\"\"\"\n",
    "    \n",
    "    md += \"\"\"\\npermalink: /publication/\"\"\" + html_filename\n",
    "    \n",
    "    if len(str(item.excerpt)) > 5:\n",
    "        md += \"\\nexcerpt: '\" + html_escape(item.excerpt) + \"'\"\n",
    "    \n",
    "    md += \"\\ndate: \" + str(item.pub_date) \n",
    "    \n",
    "    md += \"\\nvenue: '\" + html_escape(item.venue) + \"'\"\n",
    "    \n",
    "    if len(str(item.paper_url)) > 5:\n",
    "        md += \"\\npaperurl: '\" + item.paper_url + \"'\"\n",
    "    \n",
    "    md += \"\\ncitation: '\" + html_escape(item.citation) + \"'\"\n",
    "    \n",
    "    md += \"\\n---\"\n",
    "    \n",
    "    ## Markdown description for individual page\n",
    "        \n",
    "    if len(str(item.excerpt)) > 5:\n",
    "        md += \"\\n\" + html_escape(item.excerpt) + \"\\n\"\n",
    "    \n",
    "    if len(str(item.paper_url)) > 5:\n",
    "        md += \"\\n[Download paper here](\" + item.paper_url + \")\\n\" \n",
    "        \n",
    "    md += \"\\nRecommended citation: \" + item.citation\n",
    "    \n",
    "    md_filename = os.path.basename(md_filename)\n",
    "       \n",
    "    with open(\"../_publications/\" + md_filename, 'w') as f:\n",
    "        f.write(md)"
   ]
  },
  {
   "cell_type": "markdown",
   "metadata": {},
   "source": [
    "These files are in the publications directory, one directory below where we're working from."
   ]
  },
  {
   "cell_type": "code",
   "execution_count": 6,
   "metadata": {
    "collapsed": false,
    "deletable": true,
    "editable": true,
    "jupyter": {
     "outputs_hidden": false
    }
   },
   "outputs": [
    {
     "name": "stdout",
     "output_type": "stream",
     "text": [
      "2012-URL.md  2014-URL.md  2017-URL.md  2018-URL.md  2021-URL.md  2022-URL.md\n",
      "2012-URL:.md 2014-URL:.md 2017-URL:.md 2018-URL:.md 2021-URL:.md 2022-URL:.md\n"
     ]
    }
   ],
   "source": [
    "!ls ../_publications/"
   ]
  },
  {
   "cell_type": "code",
   "execution_count": 7,
   "metadata": {
    "collapsed": false,
    "deletable": true,
    "editable": true,
    "jupyter": {
     "outputs_hidden": false
    }
   },
   "outputs": [
    {
     "name": "stdout",
     "output_type": "stream",
     "text": [
      "cat: ../_publications/2009-10-01-paper-title-number-1.md: No such file or directory\n"
     ]
    }
   ],
   "source": [
    "!cat ../_publications/2009-10-01-paper-title-number-1.md"
   ]
  },
  {
   "cell_type": "code",
   "execution_count": null,
   "metadata": {
    "collapsed": true,
    "deletable": true,
    "editable": true,
    "jupyter": {
     "outputs_hidden": true
    }
   },
   "outputs": [],
   "source": []
  },
  {
   "cell_type": "code",
   "execution_count": null,
   "metadata": {},
   "outputs": [],
   "source": []
  }
 ],
 "metadata": {
  "kernelspec": {
   "display_name": "Python 3 (ipykernel)",
   "language": "python",
   "name": "python3"
  },
  "language_info": {
   "codemirror_mode": {
    "name": "ipython",
    "version": 3
   },
   "file_extension": ".py",
   "mimetype": "text/x-python",
   "name": "python",
   "nbconvert_exporter": "python",
   "pygments_lexer": "ipython3",
   "version": "3.8.8"
  }
 },
 "nbformat": 4,
 "nbformat_minor": 4
}
